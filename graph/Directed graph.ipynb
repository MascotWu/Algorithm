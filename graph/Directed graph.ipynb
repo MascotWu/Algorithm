{
 "cells": [
  {
   "metadata": {},
   "cell_type": "markdown",
   "source": "# Traverse",
   "id": "bdf985d3423734bb"
  },
  {
   "metadata": {},
   "cell_type": "markdown",
   "source": "## DFS",
   "id": "14ed343314abd82b"
  },
  {
   "cell_type": "code",
   "id": "initial_id",
   "metadata": {
    "collapsed": true,
    "ExecuteTime": {
     "end_time": "2025-07-23T07:16:28.090605Z",
     "start_time": "2025-07-23T07:16:28.084546Z"
    }
   },
   "source": [
    "graph = {\n",
    "    0: [1, 3],\n",
    "    1: [2, 4, 6],\n",
    "    2: [1, 9, 0],\n",
    "    3: [4, 0, 8],\n",
    "    4: [3, 7],\n",
    "    5: [9, 2],\n",
    "    8: [2, 9]\n",
    "}\n",
    "\n",
    "\n",
    "def dfs_traverse(graph, start=0):\n",
    "    \"\"\"\n",
    "    Performs DFS traversal on a directed graph starting from the given node.\n",
    "\n",
    "    Args:\n",
    "        graph (dict[int, list[int]]): Adjacency list representing the graph.\n",
    "        start (int): Starting node for DFS traversal.\n",
    "\n",
    "    Returns:\n",
    "        list[int]: List of nodes in the order they were visited.\n",
    "    \"\"\"\n",
    "    visited = set()\n",
    "    result = []\n",
    "\n",
    "    def dfs(node):\n",
    "        visited.add(node)\n",
    "        result.append(node)\n",
    "        for neighbor in graph.get(node, []):\n",
    "            if neighbor not in visited:\n",
    "                dfs(neighbor)\n",
    "\n",
    "    dfs(start)\n",
    "    return result\n",
    "\n",
    "\n",
    "print(dfs_traverse(graph))"
   ],
   "outputs": [
    {
     "name": "stdout",
     "output_type": "stream",
     "text": [
      "[0, 1, 2, 9, 4, 3, 8, 7, 6]\n"
     ]
    }
   ],
   "execution_count": 1
  },
  {
   "metadata": {},
   "cell_type": "markdown",
   "source": "",
   "id": "b5fd6c40db19f9d1"
  },
  {
   "metadata": {},
   "cell_type": "markdown",
   "source": "",
   "id": "de5e57b7c13f6a9f"
  }
 ],
 "metadata": {
  "kernelspec": {
   "display_name": "Python 3",
   "language": "python",
   "name": "python3"
  },
  "language_info": {
   "codemirror_mode": {
    "name": "ipython",
    "version": 2
   },
   "file_extension": ".py",
   "mimetype": "text/x-python",
   "name": "python",
   "nbconvert_exporter": "python",
   "pygments_lexer": "ipython2",
   "version": "2.7.6"
  }
 },
 "nbformat": 4,
 "nbformat_minor": 5
}
