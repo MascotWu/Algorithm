{
 "cells": [
  {
   "metadata": {},
   "cell_type": "markdown",
   "source": "### Depth-First Search (DFS) Recursive Traversal Template",
   "id": "c1a0b513b1a3c5ff"
  },
  {
   "cell_type": "code",
   "execution_count": null,
   "id": "initial_id",
   "metadata": {
    "collapsed": true
   },
   "outputs": [],
   "source": [
    "graph = {}\n",
    "visited = set()\n",
    "\n",
    "\n",
    "def dfs(node):\n",
    "    if node in visited:\n",
    "        return  # 🛑 Avoid revisiting nodes\n",
    "    visited.add(node)  # ✅ Mark node as visited\n",
    "    for neighbor in graph[node]:  # 🔁 Explore all neighbors\n",
    "        dfs(neighbor)  # 🔄 Recurse on neighbor"
   ]
  }
 ],
 "metadata": {
  "kernelspec": {
   "display_name": "Python 3",
   "language": "python",
   "name": "python3"
  },
  "language_info": {
   "codemirror_mode": {
    "name": "ipython",
    "version": 2
   },
   "file_extension": ".py",
   "mimetype": "text/x-python",
   "name": "python",
   "nbconvert_exporter": "python",
   "pygments_lexer": "ipython2",
   "version": "2.7.6"
  }
 },
 "nbformat": 4,
 "nbformat_minor": 5
}
